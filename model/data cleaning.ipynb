{
 "cells": [
  {
   "cell_type": "code",
   "execution_count": 1,
   "metadata": {},
   "outputs": [],
   "source": [
    "# Import libraries and read in datasets\n",
    "import pandas as pd\n",
    "import numpy as np\n",
    "import warnings\n",
    "\n",
    "warnings.filterwarnings('ignore')\n",
    "df = pd.read_csv('reviews.tsv', sep='\\t', on_bad_lines='skip')\n"
   ]
  },
  {
   "cell_type": "code",
   "execution_count": 2,
   "metadata": {},
   "outputs": [
    {
     "data": {
      "text/html": [
       "<div>\n",
       "<style scoped>\n",
       "    .dataframe tbody tr th:only-of-type {\n",
       "        vertical-align: middle;\n",
       "    }\n",
       "\n",
       "    .dataframe tbody tr th {\n",
       "        vertical-align: top;\n",
       "    }\n",
       "\n",
       "    .dataframe thead th {\n",
       "        text-align: right;\n",
       "    }\n",
       "</style>\n",
       "<table border=\"1\" class=\"dataframe\">\n",
       "  <thead>\n",
       "    <tr style=\"text-align: right;\">\n",
       "      <th></th>\n",
       "      <th>marketplace</th>\n",
       "      <th>customer_id</th>\n",
       "      <th>review_id</th>\n",
       "      <th>product_id</th>\n",
       "      <th>product_parent</th>\n",
       "      <th>product_title</th>\n",
       "      <th>product_category</th>\n",
       "      <th>star_rating</th>\n",
       "      <th>helpful_votes</th>\n",
       "      <th>total_votes</th>\n",
       "      <th>vine</th>\n",
       "      <th>verified_purchase</th>\n",
       "      <th>review_headline</th>\n",
       "      <th>review_body</th>\n",
       "      <th>review_date</th>\n",
       "    </tr>\n",
       "  </thead>\n",
       "  <tbody>\n",
       "    <tr>\n",
       "      <th>0</th>\n",
       "      <td>US</td>\n",
       "      <td>53096384</td>\n",
       "      <td>R63J84G1LOX6R</td>\n",
       "      <td>1563890119</td>\n",
       "      <td>763187671</td>\n",
       "      <td>The Sandman Vol. 1: Preludes and Nocturnes</td>\n",
       "      <td>Books</td>\n",
       "      <td>4.0</td>\n",
       "      <td>0.0</td>\n",
       "      <td>1.0</td>\n",
       "      <td>N</td>\n",
       "      <td>N</td>\n",
       "      <td>ignore the review below</td>\n",
       "      <td>this is the first 8 issues of the series. it i...</td>\n",
       "      <td>1995-08-13</td>\n",
       "    </tr>\n",
       "    <tr>\n",
       "      <th>1</th>\n",
       "      <td>US</td>\n",
       "      <td>53096399</td>\n",
       "      <td>R1BALOA11Z06MT</td>\n",
       "      <td>1559947608</td>\n",
       "      <td>381720534</td>\n",
       "      <td>The 22 Immutable Laws of Marketing</td>\n",
       "      <td>Books</td>\n",
       "      <td>4.0</td>\n",
       "      <td>0.0</td>\n",
       "      <td>0.0</td>\n",
       "      <td>N</td>\n",
       "      <td>N</td>\n",
       "      <td>awesome</td>\n",
       "      <td>I've always been partial to immutable laws. Th...</td>\n",
       "      <td>1995-08-17</td>\n",
       "    </tr>\n",
       "    <tr>\n",
       "      <th>2</th>\n",
       "      <td>US</td>\n",
       "      <td>53096332</td>\n",
       "      <td>R1LLAY5W5PZUS4</td>\n",
       "      <td>0671701800</td>\n",
       "      <td>860650224</td>\n",
       "      <td>Contact</td>\n",
       "      <td>Books</td>\n",
       "      <td>5.0</td>\n",
       "      <td>1.0</td>\n",
       "      <td>2.0</td>\n",
       "      <td>N</td>\n",
       "      <td>N</td>\n",
       "      <td>Read the book. It's good.</td>\n",
       "      <td>This is a book about first contact with aliens...</td>\n",
       "      <td>1995-08-30</td>\n",
       "    </tr>\n",
       "    <tr>\n",
       "      <th>3</th>\n",
       "      <td>US</td>\n",
       "      <td>53096335</td>\n",
       "      <td>R3R9VTJ82FXECQ</td>\n",
       "      <td>0425132153</td>\n",
       "      <td>624269601</td>\n",
       "      <td>Good Omens</td>\n",
       "      <td>Books</td>\n",
       "      <td>5.0</td>\n",
       "      <td>0.0</td>\n",
       "      <td>0.0</td>\n",
       "      <td>N</td>\n",
       "      <td>N</td>\n",
       "      <td>Funniest book ever written about the Anti-Christ</td>\n",
       "      <td>This is quite possibly *the* funniest book I h...</td>\n",
       "      <td>1995-09-11</td>\n",
       "    </tr>\n",
       "    <tr>\n",
       "      <th>4</th>\n",
       "      <td>US</td>\n",
       "      <td>51747709</td>\n",
       "      <td>R1P5J3FNBWTFXY</td>\n",
       "      <td>0517122707</td>\n",
       "      <td>161411385</td>\n",
       "      <td>A Confederacy of Dunces</td>\n",
       "      <td>Books</td>\n",
       "      <td>5.0</td>\n",
       "      <td>0.0</td>\n",
       "      <td>0.0</td>\n",
       "      <td>N</td>\n",
       "      <td>N</td>\n",
       "      <td>A winner that didn't last. Only a mothers love...</td>\n",
       "      <td>The story behind the book is almost better tha...</td>\n",
       "      <td>1995-10-17</td>\n",
       "    </tr>\n",
       "  </tbody>\n",
       "</table>\n",
       "</div>"
      ],
      "text/plain": [
       "  marketplace  customer_id       review_id  product_id  product_parent  \\\n",
       "0          US     53096384   R63J84G1LOX6R  1563890119       763187671   \n",
       "1          US     53096399  R1BALOA11Z06MT  1559947608       381720534   \n",
       "2          US     53096332  R1LLAY5W5PZUS4  0671701800       860650224   \n",
       "3          US     53096335  R3R9VTJ82FXECQ  0425132153       624269601   \n",
       "4          US     51747709  R1P5J3FNBWTFXY  0517122707       161411385   \n",
       "\n",
       "                                product_title product_category  star_rating  \\\n",
       "0  The Sandman Vol. 1: Preludes and Nocturnes            Books          4.0   \n",
       "1          The 22 Immutable Laws of Marketing            Books          4.0   \n",
       "2                                     Contact            Books          5.0   \n",
       "3                                  Good Omens            Books          5.0   \n",
       "4                     A Confederacy of Dunces            Books          5.0   \n",
       "\n",
       "   helpful_votes  total_votes vine verified_purchase  \\\n",
       "0            0.0          1.0    N                 N   \n",
       "1            0.0          0.0    N                 N   \n",
       "2            1.0          2.0    N                 N   \n",
       "3            0.0          0.0    N                 N   \n",
       "4            0.0          0.0    N                 N   \n",
       "\n",
       "                                     review_headline  \\\n",
       "0                            ignore the review below   \n",
       "1                                            awesome   \n",
       "2                          Read the book. It's good.   \n",
       "3   Funniest book ever written about the Anti-Christ   \n",
       "4  A winner that didn't last. Only a mothers love...   \n",
       "\n",
       "                                         review_body review_date  \n",
       "0  this is the first 8 issues of the series. it i...  1995-08-13  \n",
       "1  I've always been partial to immutable laws. Th...  1995-08-17  \n",
       "2  This is a book about first contact with aliens...  1995-08-30  \n",
       "3  This is quite possibly *the* funniest book I h...  1995-09-11  \n",
       "4  The story behind the book is almost better tha...  1995-10-17  "
      ]
     },
     "execution_count": 2,
     "metadata": {},
     "output_type": "execute_result"
    }
   ],
   "source": [
    "df.head()"
   ]
  },
  {
   "cell_type": "code",
   "execution_count": 3,
   "metadata": {},
   "outputs": [],
   "source": [
    "# Find out how many downvotes each review received\n",
    "df['downvotes'] = df.total_votes - df.helpful_votes\n",
    "\n",
    "# Reorder columns\n",
    "columns = ['marketplace', 'customer_id', 'review_id', 'product_id',\n",
    "       'product_parent', 'product_title', 'product_category', 'star_rating',\n",
    "       'helpful_votes', 'downvotes', 'total_votes', 'vine', 'verified_purchase',\n",
    "       'review_headline', 'review_body', 'review_date']\n",
    "\n",
    "df = df[columns]\n"
   ]
  },
  {
   "cell_type": "code",
   "execution_count": 4,
   "metadata": {},
   "outputs": [
    {
     "data": {
      "text/plain": [
       "array(['Books', 'Music', 'Video', 'Video DVD', 'Toys', 'Tools',\n",
       "       'Office Products', 'Video Games', 'Software',\n",
       "       'Digital Music Purchase', 'Home Entertainment', 'Electronics',\n",
       "       'Digital eBook Purchase', 'Digital Video Download', 'Kitchen',\n",
       "       'Camera', 'Outdoors', 'Musical Instruments', 'Sports', 'Watches',\n",
       "       'PC', 'Home', 'Wireless', 'Beauty', 'Baby', 'Home Improvement',\n",
       "       'Apparel', 'Shoes', 'Lawn & Garden', 'Mobile Electronics',\n",
       "       'Health & Personal Care', 'Grocery', 'Luggage',\n",
       "       'Personal Care Appliances', 'Automotive', 'Mobile Apps',\n",
       "       'Furniture', '2012-12-22', 'Pet Products'], dtype=object)"
      ]
     },
     "execution_count": 4,
     "metadata": {},
     "output_type": "execute_result"
    }
   ],
   "source": [
    "# Standardized product category names\n",
    "df.product_category.replace({\n",
    "        'Digital_Music_Purchase': 'Digital Music Purchase',\n",
    "        'Digital_Ebook_Purchase': 'Digital eBook Purchase',\n",
    "        'Digital_Video_Download': 'Digital Video Download',\n",
    "        'Lawn and Garden': 'Lawn & Garden',\n",
    "        'Mobile_Electronics': 'Mobile Electronics',\n",
    "        'Personal_Care_Appliances': 'Personal Care Appliances',\n",
    "        'Mobile_Apps': 'Mobile Apps'\n",
    "    }, inplace=True)\n",
    "\n",
    "df.product_category.unique()"
   ]
  },
  {
   "cell_type": "code",
   "execution_count": 5,
   "metadata": {},
   "outputs": [],
   "source": [
    "allowed_categories = [\"Sports\", \"Musical Instruments\", \"Shoes\", \"Electronics\", \"Watches\", \"Health & Personal Care\", \"Tools\"]\n",
    "\n",
    "# Filter the DataFrame based on the product_category column\n",
    "df = df[df['product_category'].isin(allowed_categories)]\n",
    "\n",
    "# Reset index if needed\n",
    "df.reset_index(drop=True, inplace=True)"
   ]
  },
  {
   "cell_type": "code",
   "execution_count": 6,
   "metadata": {},
   "outputs": [
    {
     "name": "stdout",
     "output_type": "stream",
     "text": [
      "Number of reviews: 52,878\n",
      "Number of customers: 51,534\n",
      "Number of product parents: 388\n",
      "Number of product titles: 526\n",
      "Number of unique products: 1,560\n",
      "Number of product categories: 7\n",
      "Number of days a review was made on: 2,899\n"
     ]
    }
   ],
   "source": [
    "print('Number of reviews: {:,}'.format(len(df)))\n",
    "print('Number of customers: {:,}'.format(len(df.customer_id.unique())))\n",
    "print('Number of product parents: {:,}'.format(len(df.product_parent.unique())))\n",
    "print('Number of product titles: {:,}'.format(len(df.product_title.unique())))\n",
    "print('Number of unique products: {:,}'.format(len(df.product_id.unique())))\n",
    "print('Number of product categories: {:,}'.format(len(df.product_category.unique())))\n",
    "print('Number of days a review was made on: {:,}'.format(len(df.review_date.unique())))"
   ]
  },
  {
   "cell_type": "code",
   "execution_count": 7,
   "metadata": {},
   "outputs": [
    {
     "data": {
      "text/plain": [
       "product_parent  product_title                                                                         \n",
       "29921795        Dragon Bruce Lee Game of Death yellow yellow rubber nunchaku (japan import)                10\n",
       "30572331        Up                                                                                         11\n",
       "34053686        Casio A178WGA-1A Mens Gold Tone Stainless Steel Digital Watch Chronograph A178WG            2\n",
       "39213084        Swatch Men's YCS410GX Windfall Chronograph Silver-Tone Bracelet Watch                      73\n",
       "                Swatch Irony Chronograph Windfall Mens Watch YCS410GX                                       1\n",
       "42685970        Sennheiser Professional Headphones with Sound Channeling                                    1\n",
       "44258853        Behringer Xenyx 802 Premium 8-Input 2-Bus Mixer with Xenyx Mic Preamps and British EQs    435\n",
       "                Behringer XENYX 802 Mixer                                                                   2\n",
       "Name: count, dtype: int64"
      ]
     },
     "execution_count": 7,
     "metadata": {},
     "output_type": "execute_result"
    }
   ],
   "source": [
    "# Many lost unique product ids were actually small variations of the same product\n",
    "df.groupby('product_parent')['product_title'].value_counts()[12:20]"
   ]
  },
  {
   "cell_type": "code",
   "execution_count": 8,
   "metadata": {},
   "outputs": [
    {
     "data": {
      "text/plain": [
       "count    1560.000000\n",
       "mean       33.896154\n",
       "std       160.987713\n",
       "min         1.000000\n",
       "25%         1.000000\n",
       "50%         3.000000\n",
       "75%        11.000000\n",
       "max      3970.000000\n",
       "Name: count, dtype: float64"
      ]
     },
     "execution_count": 8,
     "metadata": {},
     "output_type": "execute_result"
    }
   ],
   "source": [
    "\n",
    "# Summary statistics of original dataset\n",
    "df.product_id.value_counts().describe()"
   ]
  },
  {
   "cell_type": "code",
   "execution_count": 9,
   "metadata": {},
   "outputs": [],
   "source": [
    "# Extract counts on how many customers purchased a unique product\n",
    "purchased_counts = df.product_id.value_counts().rename('purchased_counts')\n",
    "\n",
    "# Add column containing product purchased counts\n",
    "df = df.merge(purchased_counts.to_frame(),\n",
    "                left_on='product_id',\n",
    "                right_index=True)\n",
    "\n",
    "# Filter only products with 100 or more purchases\n",
    "df = df[df.purchased_counts >= 100]"
   ]
  },
  {
   "cell_type": "code",
   "execution_count": 10,
   "metadata": {},
   "outputs": [
    {
     "name": "stdout",
     "output_type": "stream",
     "text": [
      "Number of reviews: 39,277\n",
      "Number of customers: 38,364\n",
      "Number of product parents: 95\n",
      "Number of product titles: 97\n",
      "Number of unique products: 98\n",
      "Number of product categories: 7\n",
      "Number of days a review was made on: 2,738\n"
     ]
    }
   ],
   "source": [
    "print('Number of reviews: {:,}'.format(len(df)))\n",
    "print('Number of customers: {:,}'.format(len(df.customer_id.unique())))\n",
    "print('Number of product parents: {:,}'.format(len(df.product_parent.unique())))\n",
    "print('Number of product titles: {:,}'.format(len(df.product_title.unique())))\n",
    "print('Number of unique products: {:,}'.format(len(df.product_id.unique())))\n",
    "print('Number of product categories: {:,}'.format(len(df.product_category.unique())))\n",
    "print('Number of days a review was made on: {:,}'.format(len(df.review_date.unique())))"
   ]
  },
  {
   "cell_type": "code",
   "execution_count": 11,
   "metadata": {},
   "outputs": [
    {
     "data": {
      "text/plain": [
       "count      98.000000\n",
       "mean      400.785714\n",
       "std       516.897411\n",
       "min       102.000000\n",
       "25%       134.750000\n",
       "50%       211.000000\n",
       "75%       476.750000\n",
       "max      3970.000000\n",
       "Name: count, dtype: float64"
      ]
     },
     "execution_count": 11,
     "metadata": {},
     "output_type": "execute_result"
    }
   ],
   "source": [
    "# New summary statistics\n",
    "df.product_id.value_counts().describe()"
   ]
  },
  {
   "cell_type": "code",
   "execution_count": 12,
   "metadata": {},
   "outputs": [
    {
     "data": {
      "text/plain": [
       "product_category\n",
       "Electronics               9290\n",
       "Health & Personal Care     971\n",
       "Musical Instruments       9473\n",
       "Shoes                      281\n",
       "Sports                    3483\n",
       "Tools                     7023\n",
       "Watches                   8756\n",
       "Name: product_category, dtype: int64"
      ]
     },
     "execution_count": 12,
     "metadata": {},
     "output_type": "execute_result"
    }
   ],
   "source": [
    "# Number of reviews in each product category\n",
    "df.groupby('product_category')['product_category'].count()"
   ]
  },
  {
   "cell_type": "code",
   "execution_count": 13,
   "metadata": {},
   "outputs": [
    {
     "data": {
      "text/plain": [
       "product_parent  product_id\n",
       "1348996         B0006AAS5G    551\n",
       "29559888        B0015HOFZI    353\n",
       "44258853        B000J5XS3C    435\n",
       "49980879        B001QWBM62    616\n",
       "64876957        B00AH3DCAA    137\n",
       "Name: count, dtype: int64"
      ]
     },
     "execution_count": 13,
     "metadata": {},
     "output_type": "execute_result"
    }
   ],
   "source": [
    "df.groupby('product_parent')['product_id'].value_counts().head()"
   ]
  },
  {
   "cell_type": "code",
   "execution_count": 14,
   "metadata": {},
   "outputs": [
    {
     "data": {
      "text/plain": [
       "product_parent  product_title                                                                              \n",
       "1348996         Invicta Men's 9211 Speedway Collection Stainless Steel Chronograph Watch with Link Bracelet    551\n",
       "29559888        Sony PSLX300USB USB Stereo Turntable                                                           353\n",
       "44258853        Behringer Xenyx 802 Premium 8-Input 2-Bus Mixer with Xenyx Mic Preamps and British EQs         435\n",
       "49980879        Zoom H4N Handy Portable Digital Recorder - 2009 Version                                        616\n",
       "64876957        Invicta Men's 9937 Pro Diver Collection Coin-Edge Swiss Automatic Watch                        137\n",
       "Name: count, dtype: int64"
      ]
     },
     "execution_count": 14,
     "metadata": {},
     "output_type": "execute_result"
    }
   ],
   "source": [
    "df.groupby('product_parent')['product_title'].value_counts().head()"
   ]
  },
  {
   "cell_type": "code",
   "execution_count": 15,
   "metadata": {},
   "outputs": [
    {
     "data": {
      "text/plain": [
       "product_parent  product_category   \n",
       "1348996         Watches                551\n",
       "29559888        Electronics            353\n",
       "44258853        Musical Instruments    435\n",
       "49980879        Musical Instruments    616\n",
       "64876957        Watches                137\n",
       "Name: count, dtype: int64"
      ]
     },
     "execution_count": 15,
     "metadata": {},
     "output_type": "execute_result"
    }
   ],
   "source": [
    "df.groupby('product_parent')['product_category'].value_counts().head()"
   ]
  },
  {
   "cell_type": "code",
   "execution_count": 16,
   "metadata": {},
   "outputs": [
    {
     "data": {
      "text/plain": [
       "product_parent  product_title                                                                         \n",
       "44258853        Behringer Xenyx 802 Premium 8-Input 2-Bus Mixer with Xenyx Mic Preamps and British EQs    435\n",
       "Name: count, dtype: int64"
      ]
     },
     "execution_count": 16,
     "metadata": {},
     "output_type": "execute_result"
    }
   ],
   "source": [
    "example = df[df.product_parent == 44258853]\n",
    "example.groupby('product_parent')['product_title'].value_counts()"
   ]
  },
  {
   "cell_type": "code",
   "execution_count": 17,
   "metadata": {},
   "outputs": [
    {
     "name": "stdout",
     "output_type": "stream",
     "text": [
      "MISSING ROWS per COLUMN\n",
      "marketplace: 0, 0.00%\n",
      "customer_id: 0, 0.00%\n",
      "review_id: 0, 0.00%\n",
      "product_id: 0, 0.00%\n",
      "product_parent: 0, 0.00%\n",
      "product_title: 0, 0.00%\n",
      "product_category: 0, 0.00%\n",
      "star_rating: 0, 0.00%\n",
      "helpful_votes: 0, 0.00%\n",
      "downvotes: 0, 0.00%\n",
      "total_votes: 0, 0.00%\n",
      "vine: 0, 0.00%\n",
      "verified_purchase: 0, 0.00%\n",
      "review_headline: 0, 0.00%\n",
      "review_body: 4, 0.01%\n",
      "review_date: 0, 0.00%\n",
      "purchased_counts: 0, 0.00%\n"
     ]
    }
   ],
   "source": [
    "def missing(dataset):\n",
    "    columns = dataset.columns\n",
    "    print('MISSING ROWS per COLUMN')\n",
    "    for column in columns:\n",
    "        percentage = (dataset[column].isnull().sum() / len(dataset)) * 100\n",
    "        print('{}: {}, {:0.2f}%'.format(column, dataset[column].isnull().sum(), percentage))\n",
    "        \n",
    "missing(df)"
   ]
  },
  {
   "cell_type": "code",
   "execution_count": 18,
   "metadata": {},
   "outputs": [
    {
     "name": "stdout",
     "output_type": "stream",
     "text": [
      "MISSING ROWS per COLUMN\n",
      "marketplace: 0, 0.00%\n",
      "customer_id: 0, 0.00%\n",
      "review_id: 0, 0.00%\n",
      "product_id: 0, 0.00%\n",
      "product_parent: 0, 0.00%\n",
      "product_title: 0, 0.00%\n",
      "product_category: 0, 0.00%\n",
      "star_rating: 0, 0.00%\n",
      "helpful_votes: 0, 0.00%\n",
      "downvotes: 0, 0.00%\n",
      "total_votes: 0, 0.00%\n",
      "vine: 0, 0.00%\n",
      "verified_purchase: 0, 0.00%\n",
      "review_headline: 0, 0.00%\n",
      "review_body: 0, 0.00%\n",
      "review_date: 0, 0.00%\n",
      "purchased_counts: 0, 0.00%\n"
     ]
    }
   ],
   "source": [
    "df.dropna(axis=0, inplace=True)\n",
    "missing(df)"
   ]
  },
  {
   "cell_type": "code",
   "execution_count": 19,
   "metadata": {},
   "outputs": [],
   "source": [
    "# Reset index and drop unimportant columns\n",
    "df = df.reset_index().drop(['index', 'marketplace', 'vine'], axis=1)"
   ]
  },
  {
   "cell_type": "code",
   "execution_count": 20,
   "metadata": {},
   "outputs": [
    {
     "data": {
      "text/plain": [
       "verified_purchase\n",
       "Y    34631\n",
       "N     4642\n",
       "Name: count, dtype: int64"
      ]
     },
     "execution_count": 20,
     "metadata": {},
     "output_type": "execute_result"
    }
   ],
   "source": [
    "df['verified_purchase'].value_counts()"
   ]
  },
  {
   "cell_type": "code",
   "execution_count": 21,
   "metadata": {},
   "outputs": [
    {
     "data": {
      "text/plain": [
       "star_rating\n",
       "1.0     2935\n",
       "2.0     1928\n",
       "3.0     2929\n",
       "4.0     7437\n",
       "5.0    24044\n",
       "Name: star_rating, dtype: int64"
      ]
     },
     "execution_count": 21,
     "metadata": {},
     "output_type": "execute_result"
    }
   ],
   "source": [
    "df.groupby('star_rating')['star_rating'].count()"
   ]
  },
  {
   "cell_type": "code",
   "execution_count": 22,
   "metadata": {},
   "outputs": [
    {
     "name": "stdout",
     "output_type": "stream",
     "text": [
      "<class 'pandas.core.frame.DataFrame'>\n",
      "RangeIndex: 39273 entries, 0 to 39272\n",
      "Data columns (total 15 columns):\n",
      " #   Column             Non-Null Count  Dtype  \n",
      "---  ------             --------------  -----  \n",
      " 0   customer_id        39273 non-null  int64  \n",
      " 1   review_id          39273 non-null  object \n",
      " 2   product_id         39273 non-null  object \n",
      " 3   product_parent     39273 non-null  int64  \n",
      " 4   product_title      39273 non-null  object \n",
      " 5   product_category   39273 non-null  object \n",
      " 6   star_rating        39273 non-null  float64\n",
      " 7   helpful_votes      39273 non-null  float64\n",
      " 8   downvotes          39273 non-null  float64\n",
      " 9   total_votes        39273 non-null  float64\n",
      " 10  verified_purchase  39273 non-null  object \n",
      " 11  review_headline    39273 non-null  object \n",
      " 12  review_body        39273 non-null  object \n",
      " 13  review_date        39273 non-null  object \n",
      " 14  purchased_counts   39273 non-null  int64  \n",
      "dtypes: float64(4), int64(3), object(8)\n",
      "memory usage: 4.5+ MB\n"
     ]
    }
   ],
   "source": [
    "\n",
    "df.info()"
   ]
  },
  {
   "cell_type": "code",
   "execution_count": 23,
   "metadata": {},
   "outputs": [
    {
     "data": {
      "text/html": [
       "<div>\n",
       "<style scoped>\n",
       "    .dataframe tbody tr th:only-of-type {\n",
       "        vertical-align: middle;\n",
       "    }\n",
       "\n",
       "    .dataframe tbody tr th {\n",
       "        vertical-align: top;\n",
       "    }\n",
       "\n",
       "    .dataframe thead th {\n",
       "        text-align: right;\n",
       "    }\n",
       "</style>\n",
       "<table border=\"1\" class=\"dataframe\">\n",
       "  <thead>\n",
       "    <tr style=\"text-align: right;\">\n",
       "      <th></th>\n",
       "      <th>customer_id</th>\n",
       "      <th>review_id</th>\n",
       "      <th>product_id</th>\n",
       "      <th>product_parent</th>\n",
       "      <th>product_title</th>\n",
       "      <th>product_category</th>\n",
       "      <th>star_rating</th>\n",
       "      <th>helpful_votes</th>\n",
       "      <th>downvotes</th>\n",
       "      <th>total_votes</th>\n",
       "      <th>verified_purchase</th>\n",
       "      <th>review_headline</th>\n",
       "      <th>review_body</th>\n",
       "      <th>review_date</th>\n",
       "      <th>purchased_counts</th>\n",
       "    </tr>\n",
       "  </thead>\n",
       "  <tbody>\n",
       "    <tr>\n",
       "      <th>0</th>\n",
       "      <td>51020657</td>\n",
       "      <td>RYVGOUKMZQ5NS</td>\n",
       "      <td>B00002N9ER</td>\n",
       "      <td>805377466</td>\n",
       "      <td>Maglite Black Universal Mounting Brackets for ...</td>\n",
       "      <td>Tools</td>\n",
       "      <td>5.0</td>\n",
       "      <td>2.0</td>\n",
       "      <td>2.0</td>\n",
       "      <td>4.0</td>\n",
       "      <td>N</td>\n",
       "      <td>Great Ides</td>\n",
       "      <td>I truly would not get the mag lite with out th...</td>\n",
       "      <td>2000-06-10</td>\n",
       "      <td>410</td>\n",
       "    </tr>\n",
       "    <tr>\n",
       "      <th>1</th>\n",
       "      <td>51368106</td>\n",
       "      <td>R2JS2KYS2ES3B6</td>\n",
       "      <td>B00002N9ER</td>\n",
       "      <td>805377466</td>\n",
       "      <td>Maglite Black Universal Mounting Brackets for ...</td>\n",
       "      <td>Tools</td>\n",
       "      <td>1.0</td>\n",
       "      <td>24.0</td>\n",
       "      <td>10.0</td>\n",
       "      <td>34.0</td>\n",
       "      <td>N</td>\n",
       "      <td>Not worth the money at all</td>\n",
       "      <td>Both my wife and my electrician managed to bre...</td>\n",
       "      <td>2000-07-15</td>\n",
       "      <td>410</td>\n",
       "    </tr>\n",
       "    <tr>\n",
       "      <th>2</th>\n",
       "      <td>52720391</td>\n",
       "      <td>R1C5GE9X3VUSAC</td>\n",
       "      <td>B00002N9ER</td>\n",
       "      <td>805377466</td>\n",
       "      <td>Maglite Black Universal Mounting Brackets for ...</td>\n",
       "      <td>Tools</td>\n",
       "      <td>4.0</td>\n",
       "      <td>41.0</td>\n",
       "      <td>1.0</td>\n",
       "      <td>42.0</td>\n",
       "      <td>N</td>\n",
       "      <td>Keeps my Flashlight handy...</td>\n",
       "      <td>I have a set of these mounting brackets bolted...</td>\n",
       "      <td>2000-08-07</td>\n",
       "      <td>410</td>\n",
       "    </tr>\n",
       "    <tr>\n",
       "      <th>3</th>\n",
       "      <td>50471937</td>\n",
       "      <td>R1QUFA6PKKHJ16</td>\n",
       "      <td>B00002N9ER</td>\n",
       "      <td>805377466</td>\n",
       "      <td>Maglite Black Universal Mounting Brackets for ...</td>\n",
       "      <td>Tools</td>\n",
       "      <td>2.0</td>\n",
       "      <td>8.0</td>\n",
       "      <td>4.0</td>\n",
       "      <td>12.0</td>\n",
       "      <td>Y</td>\n",
       "      <td>Cheap</td>\n",
       "      <td>Poor quality plastic brackets .Not up to mag l...</td>\n",
       "      <td>2001-10-04</td>\n",
       "      <td>410</td>\n",
       "    </tr>\n",
       "    <tr>\n",
       "      <th>4</th>\n",
       "      <td>52457808</td>\n",
       "      <td>RJV9CGNM0U6W8</td>\n",
       "      <td>B00002N9ER</td>\n",
       "      <td>805377466</td>\n",
       "      <td>Maglite Black Universal Mounting Brackets for ...</td>\n",
       "      <td>Tools</td>\n",
       "      <td>5.0</td>\n",
       "      <td>23.0</td>\n",
       "      <td>2.0</td>\n",
       "      <td>25.0</td>\n",
       "      <td>N</td>\n",
       "      <td>Great for a Van or a Garage</td>\n",
       "      <td>I have used these before, but  the price here ...</td>\n",
       "      <td>2003-01-20</td>\n",
       "      <td>410</td>\n",
       "    </tr>\n",
       "  </tbody>\n",
       "</table>\n",
       "</div>"
      ],
      "text/plain": [
       "   customer_id       review_id  product_id  product_parent  \\\n",
       "0     51020657   RYVGOUKMZQ5NS  B00002N9ER       805377466   \n",
       "1     51368106  R2JS2KYS2ES3B6  B00002N9ER       805377466   \n",
       "2     52720391  R1C5GE9X3VUSAC  B00002N9ER       805377466   \n",
       "3     50471937  R1QUFA6PKKHJ16  B00002N9ER       805377466   \n",
       "4     52457808   RJV9CGNM0U6W8  B00002N9ER       805377466   \n",
       "\n",
       "                                       product_title product_category  \\\n",
       "0  Maglite Black Universal Mounting Brackets for ...            Tools   \n",
       "1  Maglite Black Universal Mounting Brackets for ...            Tools   \n",
       "2  Maglite Black Universal Mounting Brackets for ...            Tools   \n",
       "3  Maglite Black Universal Mounting Brackets for ...            Tools   \n",
       "4  Maglite Black Universal Mounting Brackets for ...            Tools   \n",
       "\n",
       "   star_rating  helpful_votes  downvotes  total_votes verified_purchase  \\\n",
       "0          5.0            2.0        2.0          4.0                 N   \n",
       "1          1.0           24.0       10.0         34.0                 N   \n",
       "2          4.0           41.0        1.0         42.0                 N   \n",
       "3          2.0            8.0        4.0         12.0                 Y   \n",
       "4          5.0           23.0        2.0         25.0                 N   \n",
       "\n",
       "                review_headline  \\\n",
       "0                    Great Ides   \n",
       "1    Not worth the money at all   \n",
       "2  Keeps my Flashlight handy...   \n",
       "3                         Cheap   \n",
       "4   Great for a Van or a Garage   \n",
       "\n",
       "                                         review_body review_date  \\\n",
       "0  I truly would not get the mag lite with out th...  2000-06-10   \n",
       "1  Both my wife and my electrician managed to bre...  2000-07-15   \n",
       "2  I have a set of these mounting brackets bolted...  2000-08-07   \n",
       "3  Poor quality plastic brackets .Not up to mag l...  2001-10-04   \n",
       "4  I have used these before, but  the price here ...  2003-01-20   \n",
       "\n",
       "   purchased_counts  \n",
       "0               410  \n",
       "1               410  \n",
       "2               410  \n",
       "3               410  \n",
       "4               410  "
      ]
     },
     "execution_count": 23,
     "metadata": {},
     "output_type": "execute_result"
    }
   ],
   "source": [
    "df.head()"
   ]
  },
  {
   "cell_type": "code",
   "execution_count": 24,
   "metadata": {},
   "outputs": [],
   "source": [
    "\n",
    "df.to_csv('new_df.csv')"
   ]
  },
  {
   "cell_type": "code",
   "execution_count": null,
   "metadata": {},
   "outputs": [],
   "source": []
  }
 ],
 "metadata": {
  "kernelspec": {
   "display_name": "Python 3",
   "language": "python",
   "name": "python3"
  },
  "language_info": {
   "codemirror_mode": {
    "name": "ipython",
    "version": 3
   },
   "file_extension": ".py",
   "mimetype": "text/x-python",
   "name": "python",
   "nbconvert_exporter": "python",
   "pygments_lexer": "ipython3",
   "version": "3.10.12"
  },
  "orig_nbformat": 4
 },
 "nbformat": 4,
 "nbformat_minor": 2
}
